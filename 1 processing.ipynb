{
 "cells": [
  {
   "cell_type": "code",
   "execution_count": 1,
   "id": "73e30d5b-244d-469e-8e82-3bd0db8be34f",
   "metadata": {},
   "outputs": [],
   "source": [
    "#q1"
   ]
  },
  {
   "cell_type": "code",
   "execution_count": 2,
   "id": "4f9fd71f-a3da-4a10-812a-e916e513c4e8",
   "metadata": {},
   "outputs": [],
   "source": [
    "# when multiple programs are executed parallel in multiple cores then it is multiple processing\n",
    "# in multithreading everything happens in 1 core in multiprocessing in multiple cores."
   ]
  },
  {
   "cell_type": "code",
   "execution_count": 3,
   "id": "13251520-df85-496b-a43b-5b8fe2cb0e93",
   "metadata": {},
   "outputs": [],
   "source": [
    "#it is useful in performance as work load is been distributed amongst the cores "
   ]
  },
  {
   "cell_type": "code",
   "execution_count": 4,
   "id": "918d008e-d285-4420-a8a4-1584dbed91ec",
   "metadata": {},
   "outputs": [],
   "source": [
    "#q2"
   ]
  },
  {
   "cell_type": "code",
   "execution_count": 5,
   "id": "828389bf-ab61-494b-b268-e42d185441c2",
   "metadata": {},
   "outputs": [
    {
     "data": {
      "text/plain": [
       "'Multiprocessing uses multiple processors or cores to execute multiple tasks simultaneously. \\nThis can significantly improve performance for tasks that are CPU-intensive. However, \\nmultiprocessing can also be more complex to implement and manage.\\n\\nMultithreading uses multiple threads within a single process to execute multiple tasks simultaneously.\\nThis can improve performance for tasks that are I/O-intensive, as multiple threads can be working on \\ndifferent tasks at the same time. Multithreading is also generally easier\\nto implement and manage than multiprocessing.'"
      ]
     },
     "execution_count": 5,
     "metadata": {},
     "output_type": "execute_result"
    }
   ],
   "source": [
    "\"\"\"Multiprocessing uses multiple processors or cores to execute multiple tasks simultaneously. \n",
    "This can significantly improve performance for tasks that are CPU-intensive. However, \n",
    "multiprocessing can also be more complex to implement and manage.\n",
    "\n",
    "Multithreading uses multiple threads within a single process to execute multiple tasks simultaneously.\n",
    "This can improve performance for tasks that are I/O-intensive, as multiple threads can be working on \n",
    "different tasks at the same time. Multithreading is also generally easier\n",
    "to implement and manage than multiprocessing.\"\"\""
   ]
  },
  {
   "cell_type": "code",
   "execution_count": 6,
   "id": "58547014-30c9-4cd9-95a2-11f09d473ea9",
   "metadata": {},
   "outputs": [],
   "source": [
    "#q3"
   ]
  },
  {
   "cell_type": "code",
   "execution_count": 7,
   "id": "17a2c607-4a32-48a9-987b-fa22f12ee58a",
   "metadata": {},
   "outputs": [],
   "source": [
    "import multiprocessing"
   ]
  },
  {
   "cell_type": "code",
   "execution_count": 8,
   "id": "6f7734de-98fa-48a0-ba78-1ffd09d44a4f",
   "metadata": {},
   "outputs": [
    {
     "name": "stdout",
     "output_type": "stream",
     "text": [
      "[1, 4, 9, 16, 25, 36, 49, 64, 81]\n"
     ]
    }
   ],
   "source": [
    "def square(n):\n",
    "    return n**2     # child program\n",
    "\n",
    "if __name__ == '__main__':    #main program\n",
    "    with multiprocessing.Pool(processes=4) as pool :\n",
    "        out = pool.map(square , [1,2,3,4,5,6,7,8,9])\n",
    "        print(out)\n"
   ]
  },
  {
   "cell_type": "code",
   "execution_count": 9,
   "id": "5806f00a-6163-4f8d-87d5-9913dfb2c0f6",
   "metadata": {},
   "outputs": [],
   "source": [
    "#q4"
   ]
  },
  {
   "cell_type": "code",
   "execution_count": 10,
   "id": "73d07465-010f-4e2e-b64c-84d51734567c",
   "metadata": {},
   "outputs": [
    {
     "data": {
      "text/plain": [
       "'\\n\\nA multiprocessing pool in Python is a class that allows you to run multiple processes simultaneously.\\nThis can be useful for tasks that are CPU-intensive, such as image processing or data science.\\n\\n\\nTo use a multiprocessing pool, you first need to create a Pool object.\\nThis object will manage the worker processes that will be used to execute your tasks.\\nOnce you have created a Pool object, you can then submit tasks to it. \\nThe Pool object will then distribute the tasks to the worker processes, \\nand the worker processes will execute the tasks in parallel.\\n\\n\\nWhen you are finished submitting tasks to the Pool object, you can then call the close() method. \\nThis will stop the worker processes from accepting new tasks. Once the worker processes have finished\\nexecuting all of the tasks, you can then call the join() method. This will wait for all of the worker \\nprocesses to finish before returning.'"
      ]
     },
     "execution_count": 10,
     "metadata": {},
     "output_type": "execute_result"
    }
   ],
   "source": [
    "\"\"\"\n",
    "\n",
    "A multiprocessing pool in Python is a class that allows you to run multiple processes simultaneously.\n",
    "This can be useful for tasks that are CPU-intensive, such as image processing or data science.\n",
    "\n",
    "\n",
    "To use a multiprocessing pool, you first need to create a Pool object.\n",
    "This object will manage the worker processes that will be used to execute your tasks.\n",
    "Once you have created a Pool object, you can then submit tasks to it. \n",
    "The Pool object will then distribute the tasks to the worker processes, \n",
    "and the worker processes will execute the tasks in parallel.\n",
    "\n",
    "\n",
    "When you are finished submitting tasks to the Pool object, you can then call the close() method. \n",
    "This will stop the worker processes from accepting new tasks. Once the worker processes have finished\n",
    "executing all of the tasks, you can then call the join() method. This will wait for all of the worker \n",
    "processes to finish before returning.\"\"\""
   ]
  },
  {
   "cell_type": "code",
   "execution_count": 11,
   "id": "8c72dada-51d0-4554-a980-0579fb64cee6",
   "metadata": {},
   "outputs": [],
   "source": [
    "#q5"
   ]
  },
  {
   "cell_type": "code",
   "execution_count": null,
   "id": "017dd300-f218-47e7-ade6-b6955720afed",
   "metadata": {},
   "outputs": [
    {
     "name": "stdout",
     "output_type": "stream",
     "text": [
      "sudh\n",
      "kuamr\n",
      "asdf\n",
      "sudh\n"
     ]
    }
   ],
   "source": [
    "import multiprocessing\n",
    "\n",
    "def producer(q) :\n",
    "    for i in [\"sudh\", \"kuamr\" , \"asdf\"]:\n",
    "        q.put(i)\n",
    "\n",
    "def consume(q) :\n",
    "    while True :\n",
    "        item = q.get()\n",
    "        if item is None :\n",
    "            break\n",
    "        print(item)\n",
    "\n",
    "if __name__ == '__main__':\n",
    "    queue = multiprocessing.Queue()\n",
    "    m1 = multiprocessing.Process(target=producer , args= (queue,))\n",
    "    m2 = multiprocessing.Process(target=consume , args = (queue,))\n",
    "    m1.start()\n",
    "    m2.start()\n",
    "    queue.put(\"sudh\")\n",
    "    m1.join()\n",
    "    m2.join()\n"
   ]
  },
  {
   "cell_type": "code",
   "execution_count": null,
   "id": "d838c0c6-2708-475d-ae6d-5b1120df645d",
   "metadata": {},
   "outputs": [],
   "source": [
    "#q6"
   ]
  },
  {
   "cell_type": "code",
   "execution_count": null,
   "id": "0cac86ba-4321-43e8-b6e0-04e01a2e6ab7",
   "metadata": {},
   "outputs": [],
   "source": [
    "import multiprocessing\n",
    "\n",
    "def my_function(item):\n",
    "  # Do something with the item\n",
    "  return item * 2\n",
    "\n",
    "if __name__ == '__main__':\n",
    "  pool = multiprocessing.Pool()\n",
    "  results = pool.map(my_function, [1, 2, 3, 4, 5])\n",
    "  pool.close()\n",
    "  pool.join()\n",
    "\n",
    "  print(results)"
   ]
  },
  {
   "cell_type": "code",
   "execution_count": null,
   "id": "3ac0f2b8-2071-42f8-9383-4577d831251d",
   "metadata": {},
   "outputs": [],
   "source": []
  }
 ],
 "metadata": {
  "kernelspec": {
   "display_name": "Python 3 (ipykernel)",
   "language": "python",
   "name": "python3"
  },
  "language_info": {
   "codemirror_mode": {
    "name": "ipython",
    "version": 3
   },
   "file_extension": ".py",
   "mimetype": "text/x-python",
   "name": "python",
   "nbconvert_exporter": "python",
   "pygments_lexer": "ipython3",
   "version": "3.10.8"
  }
 },
 "nbformat": 4,
 "nbformat_minor": 5
}
